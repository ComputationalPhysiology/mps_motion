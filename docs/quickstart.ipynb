{
 "cells": [
  {
   "cell_type": "markdown",
   "id": "ff323d70",
   "metadata": {},
   "source": [
    "\n",
    "# Getting started"
   ]
  },
  {
   "cell_type": "markdown",
   "id": "feb1f5d6",
   "metadata": {
    "lines_to_next_cell": 0
   },
   "source": [
    "## Command line interface\n",
    "You can analyse a dataset used the command line interface as follows\n",
    "```\n",
    "python -m mps_motion analyze PointH4A_ChannelBF_VC_Seq0018.nd2\n",
    "```\n",
    "Here `PointH4A_ChannelBF_VC_Seq0018.nd2` is an example file containing cardiac cell data.\n",
    "Note that in order to read these data you need to also install the `mps` package.\n",
    "To see all available options for the cli you can do\n",
    "```\n",
    "python -m mps_motion analyze --help\n",
    "```\n",
    "\n",
    "## Computing displacement, velocity and strain\n",
    "\n",
    "First we need to import the required libraries"
   ]
  },
  {
   "cell_type": "code",
   "execution_count": null,
   "id": "36959ee1",
   "metadata": {},
   "outputs": [],
   "source": [
    "from pathlib import Path\n",
    "import matplotlib.pyplot as plt # For plotting\n",
    "import mps # Package to load data\n",
    "import mps_motion # Package for motion analysis\n",
    "import logging\n",
    "\n",
    "# Set loglevel to WARNING to not spill the output\n",
    "mps_motion.set_log_level(logging.WARNING)"
   ]
  },
  {
   "cell_type": "markdown",
   "id": "3c167c2d",
   "metadata": {},
   "source": [
    "Next, let us download to sample data. There is one available dataset here, but you should swap out the paths here to the path to your own data."
   ]
  },
  {
   "cell_type": "code",
   "execution_count": null,
   "id": "c7703498",
   "metadata": {},
   "outputs": [],
   "source": [
    "path = Path(\"data.npy\")\n",
    "if not path.is_file():\n",
    "    mps_motion.utils.download_demo_data(path)"
   ]
  },
  {
   "cell_type": "markdown",
   "id": "225c287e",
   "metadata": {},
   "source": [
    "Now we will read this file using the `cardiac-mps` package and print some info about the file"
   ]
  },
  {
   "cell_type": "code",
   "execution_count": null,
   "id": "e043a60f",
   "metadata": {},
   "outputs": [],
   "source": [
    "# Load raw data from Nikon images\n",
    "data = mps.MPS(path)\n",
    "print(data.info)"
   ]
  },
  {
   "cell_type": "markdown",
   "id": "fc7a4124",
   "metadata": {},
   "source": [
    "Now, we will create an optical flow object which is the object we use to run the motion tracking software. Here we have chosen the *Farneback* optical flow algorithm. "
   ]
  },
  {
   "cell_type": "code",
   "execution_count": null,
   "id": "585fa90e",
   "metadata": {},
   "outputs": [],
   "source": [
    "opt_flow = mps_motion.OpticalFlow(data, flow_algorithm=\"farneback\")"
   ]
  },
  {
   "cell_type": "markdown",
   "id": "d21dbfdb",
   "metadata": {},
   "source": [
    "To list available optical flow algorithms you can use"
   ]
  },
  {
   "cell_type": "code",
   "execution_count": null,
   "id": "cc0df464",
   "metadata": {},
   "outputs": [],
   "source": [
    "mps_motion.list_optical_flow_algorithm()"
   ]
  },
  {
   "cell_type": "markdown",
   "id": "ab5b182f",
   "metadata": {},
   "source": [
    "Before we can run the motion analysis we need to estimate a suitable reference frame. We can do this by first estimate the velocity (let us use a spacing of 5)"
   ]
  },
  {
   "cell_type": "code",
   "execution_count": null,
   "id": "d49bb4cb",
   "metadata": {},
   "outputs": [],
   "source": [
    "v = opt_flow.get_velocities(spacing=5)\n",
    "print(v)"
   ]
  },
  {
   "cell_type": "markdown",
   "id": "86d24ab6",
   "metadata": {},
   "source": [
    "Let us compute the norm and use an algorithm for estimated the reference frame. This algorithm will use the the zero velocity baseline a find a frame where the velocity is zero. We must also provide the time stamps with the same length as the velocity trace"
   ]
  },
  {
   "cell_type": "code",
   "execution_count": null,
   "id": "b1d328fc",
   "metadata": {},
   "outputs": [],
   "source": [
    "v_norm = v.norm().mean().compute()\n",
    "reference_frame_index = (\n",
    "    mps_motion.motion_tracking.estimate_referece_image_from_velocity(\n",
    "        t=data.time_stamps[:-5],\n",
    "        v=v_norm,\n",
    "    )\n",
    ")\n",
    "reference_frame = data.time_stamps[reference_frame_index]\n",
    "print(f\"Found reference frame at index {reference_frame_index} and time {reference_frame:.2f}\")"
   ]
  },
  {
   "cell_type": "markdown",
   "id": "0a27ab14",
   "metadata": {},
   "source": [
    "Let us also plot the velocity trace and mark the point where the reference frame is chosen"
   ]
  },
  {
   "cell_type": "code",
   "execution_count": null,
   "id": "06ba3b44",
   "metadata": {},
   "outputs": [],
   "source": [
    "fig, ax = plt.subplots()\n",
    "ax.plot(data.time_stamps[:-5], v_norm)\n",
    "ax.plot([reference_frame], [v_norm[reference_frame_index]], \"ro\")\n",
    "plt.show()"
   ]
  },
  {
   "cell_type": "markdown",
   "id": "0f51317b",
   "metadata": {},
   "source": [
    "We can now run the optical flow algorithm to extract the displacements. We will first perform a downsampling of the data to a scalar of 0.4 (i.e 40% of the original size) to make the problem less computational expensive"
   ]
  },
  {
   "cell_type": "code",
   "execution_count": null,
   "id": "06a49eeb",
   "metadata": {},
   "outputs": [],
   "source": [
    "u = opt_flow.get_displacements(reference_frame=reference_frame, scale=0.6)\n",
    "print(u)"
   ]
  },
  {
   "cell_type": "markdown",
   "id": "271b503b",
   "metadata": {},
   "source": [
    "We see that the object we get back is a `VectorFrameSequence`. This is a special object that represents a vector field for each image in the sequence of images, and we see that is has dimension (number of pixels in x $\\times$ number of pixels in x $\\times$ number of time steps $\\times$ 2) where the final two dimensions are the $x-$ and $y-$ component of the vectors. If we take the norm of this `VectorFrameSequence` we get a `FrameSequence`"
   ]
  },
  {
   "cell_type": "code",
   "execution_count": null,
   "id": "51a0e307",
   "metadata": {},
   "outputs": [],
   "source": [
    "u_norm = u.norm()\n",
    "print(u_norm) # FrameSequence((817, 469, 267), dx=0.8125, scale=0.4)"
   ]
  },
  {
   "cell_type": "markdown",
   "id": "1949a9e6",
   "metadata": {},
   "source": [
    "Note that the norm here represents the norm at each pixel in the stack of images. To get a proper trace we can for example compute the mean across all the pixels. Note that the arrays we work with here are lazy evaluated (using [`dask` arrays](https://docs.dask.org/en/stable/array.html)) so we need to also call the `.compute` method to get some actual results. "
   ]
  },
  {
   "cell_type": "code",
   "execution_count": null,
   "id": "4b451c9f",
   "metadata": {},
   "outputs": [],
   "source": [
    "# Compute mean of the norm of all pixels\n",
    "u_norm_mean = u_norm.mean().compute()"
   ]
  },
  {
   "cell_type": "markdown",
   "id": "3ead87a9",
   "metadata": {},
   "source": [
    "Let us also plot the trace"
   ]
  },
  {
   "cell_type": "code",
   "execution_count": null,
   "id": "074228a2",
   "metadata": {},
   "outputs": [],
   "source": [
    "fig, ax = plt.subplots()\n",
    "ax.plot(data.time_stamps, u_norm_mean)\n",
    "ax.set_title(\"Displacement norm\")\n",
    "plt.show()"
   ]
  },
  {
   "cell_type": "markdown",
   "id": "9ab2e14f",
   "metadata": {},
   "source": [
    "We can also create a movie with the displacment vectors. Since we now have scaled the displacement we would also need to send in a scale data set for the background images"
   ]
  },
  {
   "cell_type": "code",
   "execution_count": null,
   "id": "eeaaf2ed",
   "metadata": {},
   "outputs": [],
   "source": [
    "scaled_data = mps_motion.scaling.resize_data(data, scale=u.scale)\n",
    "movie_path = Path(\"motion.mp4\")\n",
    "movie_path.unlink(missing_ok=True)\n",
    "mps_motion.visu.quiver_video(scaled_data, u, movie_path, step=12, vector_scale=4)"
   ]
  },
  {
   "cell_type": "markdown",
   "id": "537a88b1",
   "metadata": {},
   "source": [
    "Now we can load the movie"
   ]
  },
  {
   "cell_type": "code",
   "execution_count": null,
   "id": "83765114",
   "metadata": {},
   "outputs": [],
   "source": [
    "from IPython.display import Video\n",
    "Video(movie_path)"
   ]
  },
  {
   "cell_type": "markdown",
   "id": "69cad5f3",
   "metadata": {},
   "source": [
    "From the displacement we can also compute several other mechanics features, such as the velocity and strain. This is most conveniently handled by first creating a `Mechanics` object"
   ]
  },
  {
   "cell_type": "code",
   "execution_count": null,
   "id": "772b91ad",
   "metadata": {},
   "outputs": [],
   "source": [
    "mech = mps_motion.Mechanics(u=u, t=data.time_stamps)"
   ]
  },
  {
   "cell_type": "markdown",
   "id": "956b4b55",
   "metadata": {},
   "source": [
    "For example we can compute the velocity using a spacing of 5"
   ]
  },
  {
   "cell_type": "code",
   "execution_count": null,
   "id": "f1328744",
   "metadata": {},
   "outputs": [],
   "source": [
    "spacing = 5\n",
    "v = mech.velocity(spacing=spacing)\n",
    "v_norm_mean = v.norm().mean()\n",
    "fig, ax = plt.subplots()\n",
    "ax.plot(data.time_stamps[:-spacing], v_norm_mean)\n",
    "ax.set_title(\"Velocity\")\n",
    "plt.show()"
   ]
  },
  {
   "cell_type": "markdown",
   "id": "8cf990d5",
   "metadata": {},
   "source": [
    "Note that this is different for the velocity trace we computed in the beginning, since here we are compting the velocity from the displacemens (which is also down-scaled) while in the beginning we where computing the velocity directly using the optical flow. \n",
    "\n",
    "We can also compute the mean value of the $x$-component of the  Green-Lagrange strain tensor"
   ]
  },
  {
   "cell_type": "code",
   "execution_count": null,
   "id": "bfc02605",
   "metadata": {},
   "outputs": [],
   "source": [
    "# Green-Lagrange strain\n",
    "print(mech.E) # TensorFrameSequence((817, 469, 267, 2, 2), dx=0.8125, scale=0.4)\n",
    "\n",
    "# Plot the X-component of the Green-Lagrange strain\n",
    "fig, ax = plt.subplots()\n",
    "ax.plot(data.time_stamps, mech.E.x.mean().compute())\n",
    "ax.set_title(\"$E_{xx}$\")\n",
    "plt.show()"
   ]
  },
  {
   "cell_type": "code",
   "execution_count": null,
   "id": "ea6a0a62",
   "metadata": {},
   "outputs": [],
   "source": []
  }
 ],
 "metadata": {
  "jupytext": {
   "cell_metadata_filter": "-all",
   "main_language": "python",
   "notebook_metadata_filter": "-all"
  },
  "kernelspec": {
   "display_name": "Python 3 (ipykernel)",
   "language": "python",
   "name": "python3"
  },
  "language_info": {
   "codemirror_mode": {
    "name": "ipython",
    "version": 3
   },
   "file_extension": ".py",
   "mimetype": "text/x-python",
   "name": "python",
   "nbconvert_exporter": "python",
   "pygments_lexer": "ipython3",
   "version": "3.10.6 (main, Oct  4 2022, 12:35:13) [Clang 14.0.0 (clang-1400.0.29.102)]"
  },
  "vscode": {
   "interpreter": {
    "hash": "468cdfb64370af17a396047945306fa0f2f19bfd7afb4c7cd88944e0b366fa8f"
   }
  }
 },
 "nbformat": 4,
 "nbformat_minor": 5
}
