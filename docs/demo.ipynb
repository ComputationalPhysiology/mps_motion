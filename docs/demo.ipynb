{
 "cells": [
  {
   "cell_type": "markdown",
   "id": "3cb171fc",
   "metadata": {},
   "source": [
    "# An introduction to the light format\n",
    "Author: Jørgen S. Dokken\n",
    "\n",
    "SPDX-License-Identifier:    MIT"
   ]
  },
  {
   "cell_type": "markdown",
   "id": "19d44545",
   "metadata": {},
   "source": [
    "We start a new cell explicitly by using the \"+\" sign and can explicitly end\n",
    "it by using the \"-\" sign."
   ]
  },
  {
   "cell_type": "markdown",
   "id": "dab18f63",
   "metadata": {},
   "source": [
    "If we do not use explicit indicators for starting or ending a cell, it creates a\n",
    "new cell whenever there is a blank line"
   ]
  },
  {
   "cell_type": "markdown",
   "id": "c7593c7f",
   "metadata": {},
   "source": [
    "This is a new cell"
   ]
  },
  {
   "cell_type": "code",
   "execution_count": null,
   "id": "684d55f1",
   "metadata": {},
   "outputs": [],
   "source": [
    "# Comments can be added to code by not adding a new line before the code\n",
    "import mypackage"
   ]
  },
  {
   "cell_type": "markdown",
   "id": "ea7708ad",
   "metadata": {},
   "source": [
    "Next we define two numbers, `a` and `b`"
   ]
  },
  {
   "cell_type": "code",
   "execution_count": null,
   "id": "4b84f388",
   "metadata": {},
   "outputs": [],
   "source": [
    "a = 1\n",
    "b = 3"
   ]
  },
  {
   "cell_type": "markdown",
   "id": "b8c0d39d",
   "metadata": {},
   "source": [
    "and add them together"
   ]
  },
  {
   "cell_type": "code",
   "execution_count": null,
   "id": "9cea1d57",
   "metadata": {},
   "outputs": [],
   "source": [
    "c = mypackage.addition(a, b)"
   ]
  },
  {
   "cell_type": "markdown",
   "id": "f7c0fce2",
   "metadata": {},
   "source": [
    "We check the result"
   ]
  },
  {
   "cell_type": "code",
   "execution_count": null,
   "id": "164ec905",
   "metadata": {},
   "outputs": [],
   "source": [
    "assert c == a + b"
   ]
  }
 ],
 "metadata": {
  "jupytext": {
   "cell_metadata_filter": "-all"
  },
  "kernelspec": {
   "display_name": "Python 3 (ipykernel)",
   "language": "python",
   "name": "python3"
  }
 },
 "nbformat": 4,
 "nbformat_minor": 5
}
