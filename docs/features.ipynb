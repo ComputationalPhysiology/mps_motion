{
 "cells": [
  {
   "cell_type": "markdown",
   "id": "39d1412a",
   "metadata": {},
   "source": [
    "# Features\n",
    "\n",
    "In this document we will explain the different features that you can extract from the displacmenet and velocity traces. \n",
    "\n",
    "Let us first download some demo data that we can use as an illustrative example"
   ]
  },
  {
   "cell_type": "code",
   "execution_count": null,
   "id": "1a4c5dfe",
   "metadata": {},
   "outputs": [],
   "source": [
    "from pathlib import Path\n",
    "import matplotlib.pyplot as plt # For plotting\n",
    "import mps # Package to load data\n",
    "import mps_motion # Package for motion analysis\n",
    "import ap_features as apf  # Package for analzying traces\n",
    "import numpy as np\n",
    "import logging\n",
    "\n",
    "# Set log level to warning so that we don't spill to much output\n",
    "mps_motion.set_log_level(logging.WARNING)"
   ]
  },
  {
   "cell_type": "code",
   "execution_count": null,
   "id": "5cee0000",
   "metadata": {},
   "outputs": [],
   "source": [
    "path = Path(\"data.npy\")\n",
    "if not path.is_file():\n",
    "    mps_motion.utils.download_demo_data(path)"
   ]
  },
  {
   "cell_type": "code",
   "execution_count": null,
   "id": "b7818ccd",
   "metadata": {},
   "outputs": [],
   "source": [
    "data = mps.MPS(path)"
   ]
  },
  {
   "cell_type": "markdown",
   "id": "4899de0e",
   "metadata": {},
   "source": [
    "And let us compute a velocity and displacement trace. First we create an optical flow object"
   ]
  },
  {
   "cell_type": "code",
   "execution_count": null,
   "id": "ff496192",
   "metadata": {},
   "outputs": [],
   "source": [
    "opt_flow = mps_motion.OpticalFlow(data, flow_algorithm=\"farneback\")"
   ]
  },
  {
   "cell_type": "markdown",
   "id": "7ddfb88f",
   "metadata": {},
   "source": [
    "Then we compute the velocity"
   ]
  },
  {
   "cell_type": "code",
   "execution_count": null,
   "id": "db9941d8",
   "metadata": {},
   "outputs": [],
   "source": [
    "spacing = 5\n",
    "\n",
    "V = opt_flow.get_velocities(spacing=spacing)"
   ]
  },
  {
   "cell_type": "markdown",
   "id": "4c4c7acc",
   "metadata": {},
   "source": [
    "and the mean velocity norm"
   ]
  },
  {
   "cell_type": "code",
   "execution_count": null,
   "id": "67727c49",
   "metadata": {},
   "outputs": [],
   "source": [
    "v_mean_norm = V.norm().mean().compute() * 1000.0  # Multiply by 1000 to convert velocity from um / ms to um / s"
   ]
  },
  {
   "cell_type": "markdown",
   "id": "7b839ba1",
   "metadata": {},
   "source": [
    "And now we estimate the reference frame"
   ]
  },
  {
   "cell_type": "code",
   "execution_count": null,
   "id": "48a05765",
   "metadata": {},
   "outputs": [],
   "source": [
    "reference_frame_index = (\n",
    "    mps_motion.motion_tracking.estimate_referece_image_from_velocity(\n",
    "        t=data.time_stamps[:-5],\n",
    "        v=v_mean_norm,\n",
    "    )\n",
    ")\n",
    "reference_frame = data.time_stamps[reference_frame_index]"
   ]
  },
  {
   "cell_type": "markdown",
   "id": "14d0cf14",
   "metadata": {},
   "source": [
    "And finally compute the displacement"
   ]
  },
  {
   "cell_type": "code",
   "execution_count": null,
   "id": "e1f18bdc",
   "metadata": {},
   "outputs": [],
   "source": [
    "U = opt_flow.get_displacements(reference_frame=reference_frame)"
   ]
  },
  {
   "cell_type": "markdown",
   "id": "c4bfd6cb",
   "metadata": {},
   "source": [
    "and compute the mean displacement norm"
   ]
  },
  {
   "cell_type": "code",
   "execution_count": null,
   "id": "929dac85",
   "metadata": {},
   "outputs": [],
   "source": [
    "u_mean_norm = U.norm().mean().compute()"
   ]
  },
  {
   "cell_type": "markdown",
   "id": "5d13cee6",
   "metadata": {},
   "source": [
    "Let us now plot the two traces"
   ]
  },
  {
   "cell_type": "code",
   "execution_count": null,
   "id": "dc5993d5",
   "metadata": {},
   "outputs": [],
   "source": [
    "fig, ax = plt.subplots(2, 1)\n",
    "ax[0].plot(data.time_stamps, u_mean_norm)\n",
    "ax[1].plot(data.time_stamps[:-5], v_mean_norm)\n",
    "plt.show()"
   ]
  },
  {
   "cell_type": "markdown",
   "id": "3497b3ac",
   "metadata": {},
   "source": [
    "Let us extract the first beat and plot the different features"
   ]
  },
  {
   "cell_type": "code",
   "execution_count": null,
   "id": "8e6ecca1",
   "metadata": {
    "tags": [
     "hide-input"
    ]
   },
   "outputs": [],
   "source": [
    "start = 40\n",
    "end = 150\n",
    "\n",
    "u = apf.Beats(\n",
    "    y=u_mean_norm[start:end],\n",
    "    t=data.time_stamps[start:end],\n",
    ")\n",
    "v = apf.Beats(\n",
    "    y=v_mean_norm[start : end - spacing],\n",
    "    t=data.time_stamps[start : end - spacing],\n",
    ")\n",
    "\n",
    "def normalize(y):\n",
    "    return (y - np.min(y)) / (np.max(y) - np.min(y))\n",
    "\n",
    "u_norm = normalize(u.y)\n",
    "v_norm = normalize(v.y)\n",
    "time = normalize(u.t)\n",
    "time_v = time[spacing // 2 :]\n",
    "\n",
    "\n",
    "spacing = 5\n",
    "labels = [\"1\", \"2\", \"3\", \"4\", \"5\"]\n",
    "indices_u = [7, 16, 31, 43, 56]\n",
    "indices_v = [i - spacing // 2 for i in indices_u]\n",
    "\n",
    "def arrow_annotate(axi, y, t1, t2, label):\n",
    "    mid_t = 0.5 * (t1 + t2)\n",
    "    axi.annotate(\n",
    "        text=\"\",\n",
    "        xy=(t1, y),\n",
    "        xytext=(t2, y),\n",
    "        arrowprops=dict(arrowstyle=\"<->\"),\n",
    "    )\n",
    "    axi.text(\n",
    "        mid_t,\n",
    "        y,\n",
    "        label,\n",
    "        size=\"large\",\n",
    "        bbox=dict(boxstyle=\"circle\", fc=\"w\", ec=\"k\"),\n",
    "    )\n",
    "    \n",
    "def adjust_spines(ax, spines):\n",
    "    for loc, spine in ax.spines.items():\n",
    "        if loc in spines:\n",
    "            spine.set_position((\"outward\", 10))  # outward by 10 points\n",
    "        else:\n",
    "            spine.set_color(\"none\")  # don't draw spine\n",
    "\n",
    "    # turn off ticks where there is no spine\n",
    "    if \"left\" in spines:\n",
    "        ax.yaxis.set_ticks_position(\"left\")\n",
    "    else:\n",
    "        # no yaxis ticks\n",
    "        ax.yaxis.set_ticks([])\n",
    "\n",
    "    if \"bottom\" in spines:\n",
    "        ax.xaxis.set_ticks_position(\"bottom\")\n",
    "    else:\n",
    "        # no xaxis ticks\n",
    "        ax.xaxis.set_ticks([])\n",
    "\n",
    "fig, ax = plt.subplots(2, 1, sharex=True, figsize=(8, 8))\n",
    "\n",
    "\n",
    "ax[0].plot(time, u_norm, linewidth=3)\n",
    "for ind, label in zip(indices_u, labels):\n",
    "    ax[0].text(\n",
    "        time[ind],\n",
    "        u_norm[ind],\n",
    "        label,\n",
    "        size=\"large\",\n",
    "        bbox=dict(boxstyle=\"circle\", fc=\"w\", ec=\"k\"),\n",
    "    )\n",
    "\n",
    "ax[1].plot(time_v[: len(v_norm)], v_norm, linewidth=3)\n",
    "for ind, label in zip(indices_v, labels):\n",
    "    ax[1].text(\n",
    "        time_v[ind],\n",
    "        v_norm[ind],\n",
    "        label,\n",
    "        size=\"large\",\n",
    "        bbox=dict(boxstyle=\"circle\", fc=\"w\", ec=\"k\"),\n",
    "    )\n",
    "    \n",
    "# Beat duratiom\n",
    "arrow_annotate(\n",
    "    ax[0],\n",
    "    y=0,\n",
    "    t1=time[indices_u[0]],\n",
    "    t2=time[indices_u[4]],\n",
    "    label=\"6\",\n",
    ")\n",
    "\n",
    "# Time to peak twich amplitude\n",
    "ax[0].plot(\n",
    "    [time[indices_u[2]], time[indices_u[2]]],\n",
    "    [u_norm[indices_u[2]], 0.7],\n",
    "    \"k:\",\n",
    ")\n",
    "arrow_annotate(\n",
    "    ax[0],\n",
    "    y=0.7,\n",
    "    t1=time[indices_u[0]],\n",
    "    t2=time[indices_u[2]],\n",
    "    label=\"7\",\n",
    ")\n",
    "\n",
    "# Time to peak contraction\n",
    "ax[1].plot(\n",
    "    [time_v[indices_v[1]], time_v[indices_v[1]]],\n",
    "    [v_norm[indices_v[1]], 0.3],\n",
    "    \"k:\",\n",
    ")\n",
    "arrow_annotate(\n",
    "    ax[1],\n",
    "    y=0.3,\n",
    "    t1=time_v[indices_v[0]],\n",
    "    t2=time_v[indices_v[1]],\n",
    "    label=\"8\",\n",
    ")\n",
    "\n",
    "# Time_v to peak relaxation\n",
    "ax[1].plot(\n",
    "    [time_v[indices_v[3]], time_v[indices_v[3]]],\n",
    "    [v_norm[indices_v[3]], 0.5],\n",
    "    \"k:\",\n",
    ")\n",
    "arrow_annotate(\n",
    "    ax[1],\n",
    "    y=0.5,\n",
    "    t1=time_v[indices_v[0]],\n",
    "    t2=time_v[indices_v[3]],\n",
    "    label=\"9\",\n",
    ")\n",
    "\n",
    "# Width at half height\n",
    "(zero_crossings,) = np.where(np.diff(np.sign(u_norm - 0.5)))\n",
    "\n",
    "arrow_annotate(\n",
    "    ax[0],\n",
    "    y=0.5,\n",
    "    t1=time[zero_crossings[0]],\n",
    "    t2=time[zero_crossings[1]],\n",
    "    label=\"10\",\n",
    ")\n",
    "\n",
    "adjust_spines(ax[0], [\"left\"])\n",
    "adjust_spines(ax[1], [\"left\", \"bottom\"])\n",
    "\n",
    "num_points = 5\n",
    "points = np.linspace(0, 1, num_points)\n",
    "u_points = np.linspace(np.min(u.y), np.max(u.y), num_points)\n",
    "ax[0].set_yticks(points)\n",
    "ax[0].set_yticklabels([f\"{vi:.1f}\" for vi in u_points])\n",
    "v_points = np.linspace(np.min(v.y), np.max(v.y), num_points)\n",
    "ax[1].set_yticks(points)\n",
    "ax[1].set_yticklabels([f\"{vi:.0f}\" for vi in v_points])\n",
    "\n",
    "t_points = np.linspace(u.t[0], u.t[-1], num_points)\n",
    "ax[1].set_xticks(points)\n",
    "ax[1].set_xticklabels([f\"{vi:.0f}\" for vi in t_points])\n",
    "ax[1].set_xlabel(\"Time [ms]\")\n",
    "    \n",
    "for axi in ax:\n",
    "    axi.grid()\n",
    "    \n",
    "ax[0].set_ylabel(\"Displacement [\\u00B5m]\")\n",
    "ax[1].set_ylabel(\"Velocity [\\u00B5m / s]\")\n",
    "\n",
    "legend = \"\\n\".join(\n",
    "    [\n",
    "        \"1. Start of beat\",\n",
    "        \"2. Maximum rise velocity\",\n",
    "        \"3. Peak twitch amplitude\",\n",
    "        \"4. Maximum relaxation velocity\",\n",
    "        \"5. End of beat\",\n",
    "        \"6. Beat duration\",\n",
    "        \"7. Time to peak twitch amplitude\",\n",
    "        \"8. Time to peak contraction velocity\",\n",
    "        \"9. Time to peak relaxation velocity\",\n",
    "        \"10. Width at half height\",\n",
    "    ]\n",
    ")\n",
    "fig.text(0.68, 0.45, legend, size=\"xx-large\")\n",
    "fig.subplots_adjust(right=0.65)\n",
    "plt.show()"
   ]
  },
  {
   "cell_type": "code",
   "execution_count": null,
   "id": "8ab7710a",
   "metadata": {},
   "outputs": [],
   "source": [
    "for k, v in mps_motion.stats.compute_features(u=u.y, v=v.y, t=u.t).items():\n",
    "    print(f\"{k}: {v[0]}\")"
   ]
  }
 ],
 "metadata": {
  "celltoolbar": "Edit Metadata",
  "kernelspec": {
   "display_name": "Python 3 (ipykernel)",
   "language": "python",
   "name": "python3"
  },
  "language_info": {
   "codemirror_mode": {
    "name": "ipython",
    "version": 3
   },
   "file_extension": ".py",
   "mimetype": "text/x-python",
   "name": "python",
   "nbconvert_exporter": "python",
   "pygments_lexer": "ipython3",
   "version": "3.10.6"
  }
 },
 "nbformat": 4,
 "nbformat_minor": 5
}
