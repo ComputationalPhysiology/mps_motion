{
 "cells": [
  {
   "cell_type": "markdown",
   "id": "41a80a2a",
   "metadata": {},
   "source": [
    "# Graphical user interface\n",
    "\n",
    "`mps-motion` also comes with the graphical user interface which is made with [`streamlit`](https://streamlit.io). To start the gui you need to first find a folder containing some data (i.e some `.tif`, `.nd2` or `.czi` files) and run the following command\n",
    "\n",
    "```\n",
    "python -m mps_motion gui path/to/folder\n",
    "```\n",
    "where `path/to/folder` should be the path to the folder containing the files. Note that the `gui` will not traverse the subdirectories, and only list the files with the supported file time within that folder. \n",
    "\n",
    "This will start a web-server that by default will run on port 8501, so opening the url `http://localhost:8501` should open the graphical user interface.\n",
    "\n",
    "Below show an example of how this could look like. "
   ]
  },
  {
   "cell_type": "code",
   "execution_count": null,
   "id": "d60b3d08",
   "metadata": {
    "tags": [
     "hide-input"
    ]
   },
   "outputs": [],
   "source": [
    "from IPython.display import Video\n",
    "Video(\"mps-motion-gui.mp4\", width=700, height=400)"
   ]
  }
 ],
 "metadata": {
  "celltoolbar": "Edit Metadata",
  "jupytext": {
   "cell_metadata_filter": "-all",
   "main_language": "python",
   "notebook_metadata_filter": "-all"
  },
  "kernelspec": {
   "display_name": "Python 3 (ipykernel)",
   "language": "python",
   "name": "python3"
  },
  "language_info": {
   "codemirror_mode": {
    "name": "ipython",
    "version": 3
   },
   "file_extension": ".py",
   "mimetype": "text/x-python",
   "name": "python",
   "nbconvert_exporter": "python",
   "pygments_lexer": "ipython3",
   "version": "3.10.6"
  }
 },
 "nbformat": 4,
 "nbformat_minor": 5
}
